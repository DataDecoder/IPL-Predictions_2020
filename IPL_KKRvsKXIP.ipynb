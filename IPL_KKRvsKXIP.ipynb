{
 "cells": [
  {
   "cell_type": "markdown",
   "metadata": {},
   "source": [
    "#  IPL 2020 Predictions"
   ]
  },
  {
   "cell_type": "markdown",
   "metadata": {},
   "source": [
    "Indian Premier League (IPL) is a Twenty20 cricket format league in India. It is usually played in April and May every year. As of 2019, the title sponsor of the game is Vivo. The league was founded by Board of Control for Cricket India (BCCI) in 2008."
   ]
  },
  {
   "cell_type": "markdown",
   "metadata": {},
   "source": [
    "matches.csv - Match by match data\n",
    "\n",
    "deliveries.csv - Ball by ball data"
   ]
  },
  {
   "cell_type": "code",
   "execution_count": 1,
   "metadata": {},
   "outputs": [],
   "source": [
    "import pandas as pd\n",
    "import numpy as np\n",
    "import seaborn as sns\n",
    "import matplotlib.pyplot as plt\n",
    "from statistics import mode\n",
    "import math\n",
    "%matplotlib inline"
   ]
  },
  {
   "cell_type": "code",
   "execution_count": 2,
   "metadata": {},
   "outputs": [],
   "source": [
    "import os\n",
    "os.chdir('C:\\\\Users\\\\Manisha\\\\Desktop\\\\Data')\n",
    "match=pd.read_csv('C:/Users/Manisha/Desktop/Internship/Widhya_WPL/matches.csv')\n",
    "score=pd.read_csv('C:/Users/Manisha/Desktop/Internship/Widhya_WPL/deliveries.csv')"
   ]
  },
  {
   "cell_type": "code",
   "execution_count": 3,
   "metadata": {},
   "outputs": [],
   "source": [
    "match_ids = match[match.season >= 2016]['id'].unique()\n",
    "matches1 = match[(match.season >= 2016) & (match['result']=='normal')]\n",
    "matches1 = matches1.drop(['player_of_match','venue','umpire1','umpire2','umpire3', 'dl_applied', 'season', 'city', 'date', 'result'], axis=1)\n",
    "matches1.dropna(inplace=True)"
   ]
  },
  {
   "cell_type": "code",
   "execution_count": 4,
   "metadata": {},
   "outputs": [],
   "source": [
    "def team_correction(row):\n",
    "    row = row.strip()\n",
    "    if row == 'Delhi Daredevils':\n",
    "        return 'Delhi Capitals'\n",
    "    if row == 'Rising Pune Supergiants':\n",
    "        return 'Rising Pune Supergiant'\n",
    "    return row\n",
    "\n",
    "for col in ['team1', 'team2', 'winner', 'toss_winner']:\n",
    "    matches1[col] = matches1[col].apply(team_correction)"
   ]
  },
  {
   "cell_type": "code",
   "execution_count": 5,
   "metadata": {},
   "outputs": [],
   "source": [
    "team_1 = 'Kolkata Knight Riders'\n",
    "team_2 = 'Kings XI Punjab'"
   ]
  },
  {
   "cell_type": "markdown",
   "metadata": {},
   "source": [
    "# Winning Probability of Teams"
   ]
  },
  {
   "cell_type": "code",
   "execution_count": 6,
   "metadata": {},
   "outputs": [
    {
     "data": {
      "text/plain": [
       "Text(0.5, 1.0, 'KXIP Total Runs Score Stats Per Count')"
      ]
     },
     "execution_count": 6,
     "metadata": {},
     "output_type": "execute_result"
    },
    {
     "data": {
      "image/png": "[encoded data removed]",
      "text/plain": [
       "<Figure size 1440x576 with 2 Axes>"
      ]
     },
     "metadata": {
      "needs_background": "light"
     },
     "output_type": "display_data"
    }
   ],
   "source": [
    "fig, ax = plt.subplots(1,2, figsize=(20,8))\n",
    "kkr_runs = score[score['batting_team']==team_1].groupby('match_id').sum()['total_runs']\n",
    "kp_runs = score[score['batting_team']==team_2].groupby('match_id').sum()['total_runs']\n",
    "(kkr_runs.describe()[1:]/kkr_runs.describe()[0]).plot(ax=ax[0], kind='bar', color = 'yellow', grid=True)\n",
    "(kp_runs.describe()[1:]/kp_runs.describe()[0]).plot(ax=ax[1], kind='bar', color='green', grid=True)\n",
    "ax[0].set_title(\"KKR Total Runs Score Stats Per Count\")\n",
    "ax[1].set_title(\"KXIP Total Runs Score Stats Per Count\")"
   ]
  },
  {
   "cell_type": "code",
   "execution_count": 7,
   "metadata": {},
   "outputs": [
    {
     "data": {
      "text/html": [
       "<div>\n",
       "<style scoped>\n",
       "    .dataframe tbody tr th:only-of-type {\n",
       "        vertical-align: middle;\n",
       "    }\n",
       "\n",
       "    .dataframe tbody tr th {\n",
       "        vertical-align: top;\n",
       "    }\n",
       "\n",
       "    .dataframe thead th {\n",
       "        text-align: right;\n",
       "    }\n",
       "</style>\n",
       "<table border=\"1\" class=\"dataframe\">\n",
       "  <thead>\n",
       "    <tr style=\"text-align: right;\">\n",
       "      <th>toss_decision</th>\n",
       "      <th>field</th>\n",
       "    </tr>\n",
       "    <tr>\n",
       "      <th>toss_winner</th>\n",
       "      <th></th>\n",
       "    </tr>\n",
       "  </thead>\n",
       "  <tbody>\n",
       "    <tr>\n",
       "      <th>Kings XI Punjab</th>\n",
       "      <td>4</td>\n",
       "    </tr>\n",
       "    <tr>\n",
       "      <th>Kolkata Knight Riders</th>\n",
       "      <td>4</td>\n",
       "    </tr>\n",
       "  </tbody>\n",
       "</table>\n",
       "</div>"
      ],
      "text/plain": [
       "toss_decision          field\n",
       "toss_winner                 \n",
       "Kings XI Punjab            4\n",
       "Kolkata Knight Riders      4"
      ]
     },
     "execution_count": 7,
     "metadata": {},
     "output_type": "execute_result"
    }
   ],
   "source": [
    "today = pd.DataFrame(matches1[(matches1['team1'].isin([team_1, team_2])) & (matches1['team2'].isin([team_1, team_2]))])\n",
    "pd.crosstab(index=today['toss_winner'], columns=today['toss_decision'])"
   ]
  },
  {
   "cell_type": "code",
   "execution_count": 8,
   "metadata": {},
   "outputs": [
    {
     "data": {
      "text/html": [
       "<div>\n",
       "<style scoped>\n",
       "    .dataframe tbody tr th:only-of-type {\n",
       "        vertical-align: middle;\n",
       "    }\n",
       "\n",
       "    .dataframe tbody tr th {\n",
       "        vertical-align: top;\n",
       "    }\n",
       "\n",
       "    .dataframe thead th {\n",
       "        text-align: right;\n",
       "    }\n",
       "</style>\n",
       "<table border=\"1\" class=\"dataframe\">\n",
       "  <thead>\n",
       "    <tr style=\"text-align: right;\">\n",
       "      <th></th>\n",
       "      <th>id</th>\n",
       "      <th>team1</th>\n",
       "      <th>team2</th>\n",
       "      <th>toss_winner</th>\n",
       "      <th>toss_decision</th>\n",
       "      <th>winner</th>\n",
       "      <th>win_by_runs</th>\n",
       "      <th>win_by_wickets</th>\n",
       "    </tr>\n",
       "  </thead>\n",
       "  <tbody>\n",
       "    <tr>\n",
       "      <th>10</th>\n",
       "      <td>11</td>\n",
       "      <td>Kings XI Punjab</td>\n",
       "      <td>Kolkata Knight Riders</td>\n",
       "      <td>Kolkata Knight Riders</td>\n",
       "      <td>field</td>\n",
       "      <td>Kolkata Knight Riders</td>\n",
       "      <td>0</td>\n",
       "      <td>8</td>\n",
       "    </tr>\n",
       "    <tr>\n",
       "      <th>47</th>\n",
       "      <td>48</td>\n",
       "      <td>Kings XI Punjab</td>\n",
       "      <td>Kolkata Knight Riders</td>\n",
       "      <td>Kolkata Knight Riders</td>\n",
       "      <td>field</td>\n",
       "      <td>Kings XI Punjab</td>\n",
       "      <td>14</td>\n",
       "      <td>0</td>\n",
       "    </tr>\n",
       "    <tr>\n",
       "      <th>588</th>\n",
       "      <td>589</td>\n",
       "      <td>Kings XI Punjab</td>\n",
       "      <td>Kolkata Knight Riders</td>\n",
       "      <td>Kolkata Knight Riders</td>\n",
       "      <td>field</td>\n",
       "      <td>Kolkata Knight Riders</td>\n",
       "      <td>0</td>\n",
       "      <td>6</td>\n",
       "    </tr>\n",
       "    <tr>\n",
       "      <th>607</th>\n",
       "      <td>608</td>\n",
       "      <td>Kolkata Knight Riders</td>\n",
       "      <td>Kings XI Punjab</td>\n",
       "      <td>Kings XI Punjab</td>\n",
       "      <td>field</td>\n",
       "      <td>Kolkata Knight Riders</td>\n",
       "      <td>7</td>\n",
       "      <td>0</td>\n",
       "    </tr>\n",
       "    <tr>\n",
       "      <th>653</th>\n",
       "      <td>7911</td>\n",
       "      <td>Kolkata Knight Riders</td>\n",
       "      <td>Kings XI Punjab</td>\n",
       "      <td>Kings XI Punjab</td>\n",
       "      <td>field</td>\n",
       "      <td>Kings XI Punjab</td>\n",
       "      <td>0</td>\n",
       "      <td>9</td>\n",
       "    </tr>\n",
       "    <tr>\n",
       "      <th>679</th>\n",
       "      <td>7937</td>\n",
       "      <td>Kolkata Knight Riders</td>\n",
       "      <td>Kings XI Punjab</td>\n",
       "      <td>Kings XI Punjab</td>\n",
       "      <td>field</td>\n",
       "      <td>Kolkata Knight Riders</td>\n",
       "      <td>31</td>\n",
       "      <td>0</td>\n",
       "    </tr>\n",
       "    <tr>\n",
       "      <th>701</th>\n",
       "      <td>11142</td>\n",
       "      <td>Kolkata Knight Riders</td>\n",
       "      <td>Kings XI Punjab</td>\n",
       "      <td>Kings XI Punjab</td>\n",
       "      <td>field</td>\n",
       "      <td>Kolkata Knight Riders</td>\n",
       "      <td>28</td>\n",
       "      <td>0</td>\n",
       "    </tr>\n",
       "    <tr>\n",
       "      <th>747</th>\n",
       "      <td>11343</td>\n",
       "      <td>Kings XI Punjab</td>\n",
       "      <td>Kolkata Knight Riders</td>\n",
       "      <td>Kolkata Knight Riders</td>\n",
       "      <td>field</td>\n",
       "      <td>Kolkata Knight Riders</td>\n",
       "      <td>0</td>\n",
       "      <td>7</td>\n",
       "    </tr>\n",
       "  </tbody>\n",
       "</table>\n",
       "</div>"
      ],
      "text/plain": [
       "        id                  team1                  team2  \\\n",
       "10      11        Kings XI Punjab  Kolkata Knight Riders   \n",
       "47      48        Kings XI Punjab  Kolkata Knight Riders   \n",
       "588    589        Kings XI Punjab  Kolkata Knight Riders   \n",
       "607    608  Kolkata Knight Riders        Kings XI Punjab   \n",
       "653   7911  Kolkata Knight Riders        Kings XI Punjab   \n",
       "679   7937  Kolkata Knight Riders        Kings XI Punjab   \n",
       "701  11142  Kolkata Knight Riders        Kings XI Punjab   \n",
       "747  11343        Kings XI Punjab  Kolkata Knight Riders   \n",
       "\n",
       "               toss_winner toss_decision                 winner  win_by_runs  \\\n",
       "10   Kolkata Knight Riders         field  Kolkata Knight Riders            0   \n",
       "47   Kolkata Knight Riders         field        Kings XI Punjab           14   \n",
       "588  Kolkata Knight Riders         field  Kolkata Knight Riders            0   \n",
       "607        Kings XI Punjab         field  Kolkata Knight Riders            7   \n",
       "653        Kings XI Punjab         field        Kings XI Punjab            0   \n",
       "679        Kings XI Punjab         field  Kolkata Knight Riders           31   \n",
       "701        Kings XI Punjab         field  Kolkata Knight Riders           28   \n",
       "747  Kolkata Knight Riders         field  Kolkata Knight Riders            0   \n",
       "\n",
       "     win_by_wickets  \n",
       "10                8  \n",
       "47                0  \n",
       "588               6  \n",
       "607               0  \n",
       "653               9  \n",
       "679               0  \n",
       "701               0  \n",
       "747               7  "
      ]
     },
     "execution_count": 8,
     "metadata": {},
     "output_type": "execute_result"
    }
   ],
   "source": [
    "matches1[(matches1['team1'].isin([team_1, team_2])) & (matches1['team2'].isin([team_1, team_2]))]"
   ]
  },
  {
   "cell_type": "markdown",
   "metadata": {},
   "source": [
    "The probability of winning the toss is equal. So, considering recent matches, the probability of winning of KKR is higher."
   ]
  },
  {
   "cell_type": "code",
   "execution_count": 9,
   "metadata": {},
   "outputs": [
    {
     "data": {
      "text/plain": [
       "Text(0.5, 1.0, 'Percentage of Winning')"
      ]
     },
     "execution_count": 9,
     "metadata": {},
     "output_type": "execute_result"
    },
    {
     "data": {
      "image/png": "[encoded data removed]",
      "text/plain": [
       "<Figure size 432x288 with 1 Axes>"
      ]
     },
     "metadata": {
      "needs_background": "light"
     },
     "output_type": "display_data"
    }
   ],
   "source": [
    "wins = pd.DataFrame(matches1[(matches1['team1'].isin([team_1, team_2])) & (matches1['team2'].isin([team_1, team_2]))]['winner'].value_counts())\n",
    "wins['Percentage Win Chance'] = (wins['winner']/sum(wins['winner']))*100\n",
    "sns.barplot(wins.index, y=wins['Percentage Win Chance'])\n",
    "plt.title('Percentage of Winning')"
   ]
  },
  {
   "cell_type": "markdown",
   "metadata": {},
   "source": [
    "The following Graph also predicts the chances of winning of KKR is high. "
   ]
  },
  {
   "cell_type": "code",
   "execution_count": 15,
   "metadata": {},
   "outputs": [],
   "source": [
    "score = score[score.match_id.apply(lambda x: True if x in match_ids else False)]\n",
    "for col in ['batting_team', 'bowling_team']:\n",
    "    score[col] = score[col].apply(team_correction)\n",
    "\n",
    "score.fillna(0, inplace=True)\n",
    "score['player_dismissed'] = score['player_dismissed'].apply(lambda x: 0 if x==0 else 1)"
   ]
  },
  {
   "cell_type": "markdown",
   "metadata": {},
   "source": [
    "# Number of Total Dot Balls in the Entire Match"
   ]
  },
  {
   "cell_type": "code",
   "execution_count": 28,
   "metadata": {},
   "outputs": [
    {
     "data": {
      "text/plain": [
       "Text(0.5, 1.0, 'Dot balls in Entire Match')"
      ]
     },
     "execution_count": 28,
     "metadata": {},
     "output_type": "execute_result"
    },
    {
     "data": {
      "image/png": "[encoded data removed]",
      "text/plain": [
       "<Figure size 432x288 with 1 Axes>"
      ]
     },
     "metadata": {
      "needs_background": "light"
     },
     "output_type": "display_data"
    }
   ],
   "source": [
    "bowlers = ['Axar Patel', 'Praveen Kumar','Sunil Narine', 'Vinay Kumar', 'Lakshmipathy Balaji', 'Mohammad Shami', 'Kuldeep Yadav']\n",
    "bowlers_dot = score[(score['bowler'].isin(bowlers)) & (score['total_runs']==0)]\n",
    "bowlers_match = score[(score['bowler'].isin(bowlers)) & (score['match_id'].isin(bowlers_dot['match_id']))]\n",
    "(bowlers_dot.groupby('bowler').count()['total_runs']/bowlers_match.groupby('bowler').count()['ball']).sort_values().plot(kind='bar', color='orange')\n",
    "plt.title(\"Dot balls in Entire Match\")"
   ]
  },
  {
   "cell_type": "markdown",
   "metadata": {},
   "source": [
    "# Wickets took  between 90th to 120th ball"
   ]
  },
  {
   "cell_type": "code",
   "execution_count": 35,
   "metadata": {},
   "outputs": [
    {
     "name": "stdout",
     "output_type": "stream",
     "text": [
      "Predicted wickets fall of KKR_KXIP is: 2\n"
     ]
    }
   ],
   "source": [
    "KKR_KXIP_Overs = score[(score['bowling_team'] == team_2) & (score['batting_team']==team_1) & (score['over']>=15)].groupby('match_id').sum()\n",
    "print(\"Predicted wickets fall of KKR_KXIP is: {}\".format(round(KKR_KXIP_Overs['player_dismissed'].mean())))"
   ]
  },
  {
   "cell_type": "code",
   "execution_count": 36,
   "metadata": {},
   "outputs": [
    {
     "name": "stdout",
     "output_type": "stream",
     "text": [
      "Predicted wickets fall of KXIP_KKR is: 3\n"
     ]
    }
   ],
   "source": [
    "KXIP_KKR_Overs = score[(score['bowling_team'] == team_1) & (score['batting_team']==team_2) & (score['over']>=15)].groupby('match_id').sum()\n",
    "print(\"Predicted wickets fall of KXIP_KKR is: {}\".format(round(KXIP_KKR_Overs['player_dismissed'].mean())))"
   ]
  },
  {
   "cell_type": "markdown",
   "metadata": {},
   "source": [
    "# Glen Maxwell's Contribution"
   ]
  },
  {
   "cell_type": "code",
   "execution_count": 40,
   "metadata": {},
   "outputs": [],
   "source": [
    "GM_contribution = list()\n",
    "for match_id in score[(score['batsman']=='Glen Maxwell')]['match_id'].unique():\n",
    "    GM_runs = score[(score['batsman']=='Glen Maxwell') & (score['match_id']==match_id)]['batsman_runs'].sum()\n",
    "    GM_team = score[(score['batsman']=='Glen Maxwell') & (score['match_id']==match_id)]['batting_team'].unique()[0]\n",
    "    team_runs = dscore[(score['batting_team']==GM_team) & (score['match_id']==match_id)]['batsman_runs'].sum()\n",
    "    pct_contribution = int(GM_runs*100/team_runs)\n",
    "    GM_contribution.append([match_id, pct_contribution])\n",
    "\n",
    "GM_contri = pd.DataFrame(data=GM_contribution, columns=['match_id', 'pct_contribution'])"
   ]
  },
  {
   "cell_type": "code",
   "execution_count": 41,
   "metadata": {},
   "outputs": [
    {
     "name": "stdout",
     "output_type": "stream",
     "text": [
      "count       0\n",
      "unique      0\n",
      "top       NaN\n",
      "freq      NaN\n",
      "Name: pct_contribution, dtype: object\n"
     ]
    },
    {
     "data": {
      "text/plain": [
       "Text(0.5, 1.0, \"Glen Maxwell's Contribution\")"
      ]
     },
     "execution_count": 41,
     "metadata": {},
     "output_type": "execute_result"
    },
    {
     "data": {
      "image/png": "[encoded data removed]",
      "text/plain": [
       "<Figure size 432x288 with 1 Axes>"
      ]
     },
     "metadata": {
      "needs_background": "light"
     },
     "output_type": "display_data"
    }
   ],
   "source": [
    "GM_contri['pct_contribution'].hist(color='pink', grid=True, alpha = 0.65)\n",
    "print(GM_contri['pct_contribution'].describe())\n",
    "plt.title(\"Glen Maxwell's Contribution\")"
   ]
  },
  {
   "cell_type": "markdown",
   "metadata": {},
   "source": [
    "# No. of no balls"
   ]
  },
  {
   "cell_type": "code",
   "execution_count": 47,
   "metadata": {},
   "outputs": [],
   "source": [
    "kkr_team = ['Sandeep Warrier', 'Kuldeep Yadav', 'Dinesh Karthik', 'Pat Cummins', 'Shubham Gill']\n",
    "kxip_team = ['KL Rahul', 'Mandeep singh', 'Jimmy Neesham', 'Deepak Hooda', 'Glen Maxwell']"
   ]
  },
  {
   "cell_type": "code",
   "execution_count": 48,
   "metadata": {},
   "outputs": [
    {
     "data": {
      "text/plain": [
       "<matplotlib.axes._subplots.AxesSubplot at 0x1e42b363280>"
      ]
     },
     "execution_count": 48,
     "metadata": {},
     "output_type": "execute_result"
    },
    {
     "data": {
      "image/png": "[encoded data removed]",
      "text/plain": [
       "<Figure size 432x288 with 1 Axes>"
      ]
     },
     "metadata": {
      "needs_background": "light"
     },
     "output_type": "display_data"
    }
   ],
   "source": [
    "score[score['bowler'].isin(kkr_team+kxip_team)].groupby('bowler').mean()['noball_runs'].hist()"
   ]
  },
  {
   "cell_type": "markdown",
   "metadata": {},
   "source": [
    "# Summary"
   ]
  },
  {
   "cell_type": "markdown",
   "metadata": {},
   "source": [
    "- The central tendency measures of both the teams in regards of their scores per match were compared and toss winning chances were compared. Adding the recent playing stats of both the teams, the winning chances were estimated.\n",
    "\n",
    "- The total Dot ball in the entire match was also calculated by using the bowlers stats of the teams. \n",
    "\n",
    "- Wickets of both innings were calculated betwwen 90th to 120th ball of the match that were approimately between 4-6 by calculating each team stats. \n",
    "\n",
    "- Glen Maxwell's contribution were calculated in the entire match that was most probably equal to zero, i.e. histogram shows no data.  \n",
    "\n",
    "- Today playing bowler's no balls per match was calculated and a histogram of this data suggested that the range would be between 0 to 1."
   ]
  },
  {
   "cell_type": "markdown",
   "metadata": {},
   "source": [
    "#                                          Thank-You"
   ]
  }
 ],
 "metadata": {
  "kernelspec": {
   "display_name": "Python 3",
   "language": "python",
   "name": "python3"
  },
  "language_info": {
   "codemirror_mode": {
    "name": "ipython",
    "version": 3
   },
   "file_extension": ".py",
   "mimetype": "text/x-python",
   "name": "python",
   "nbconvert_exporter": "python",
   "pygments_lexer": "ipython3",
   "version": "3.8.3"
  }
 },
 "nbformat": 4,
 "nbformat_minor": 4
}
